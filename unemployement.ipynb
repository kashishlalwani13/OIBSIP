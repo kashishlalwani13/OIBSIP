{
 "cells": [
  {
   "attachments": {},
   "cell_type": "markdown",
   "metadata": {},
   "source": [
    "OASIS INFOBYTE SIP SOLUTIONS\n",
    "Name: Kashish Lalwani\n",
    "DATA SCIENCE INTERN\n",
    "Task 2: UNEMPLOYEMENT ANALYSIS WITH PYTHON"
   ]
  },
  {
   "cell_type": "code",
   "execution_count": 2,
   "metadata": {},
   "outputs": [],
   "source": [
    "#importing libraries\n",
    "import pandas as pd\n",
    "import numpy as np\n",
    "import seaborn as sns\n",
    "import pandas as pd\n",
    "import matplotlib.pyplot as plt"
   ]
  },
  {
   "cell_type": "code",
   "execution_count": 3,
   "metadata": {},
   "outputs": [],
   "source": [
    "# read salaries datasets\n",
    "unemployment = pd.read_csv(r'C:\\Users\\kaash\\OneDrive\\Desktop\\KLIMP\\Internship\\Oasis infobyte\\unemployment analysis\\output.csv\\output.csv')"
   ]
  },
  {
   "cell_type": "code",
   "execution_count": 4,
   "metadata": {},
   "outputs": [
    {
     "data": {
      "text/html": [
       "<div>\n",
       "<style scoped>\n",
       "    .dataframe tbody tr th:only-of-type {\n",
       "        vertical-align: middle;\n",
       "    }\n",
       "\n",
       "    .dataframe tbody tr th {\n",
       "        vertical-align: top;\n",
       "    }\n",
       "\n",
       "    .dataframe thead th {\n",
       "        text-align: right;\n",
       "    }\n",
       "</style>\n",
       "<table border=\"1\" class=\"dataframe\">\n",
       "  <thead>\n",
       "    <tr style=\"text-align: right;\">\n",
       "      <th></th>\n",
       "      <th>Year</th>\n",
       "      <th>Month</th>\n",
       "      <th>State</th>\n",
       "      <th>County</th>\n",
       "      <th>Rate</th>\n",
       "    </tr>\n",
       "  </thead>\n",
       "  <tbody>\n",
       "    <tr>\n",
       "      <th>0</th>\n",
       "      <td>2015</td>\n",
       "      <td>February</td>\n",
       "      <td>Mississippi</td>\n",
       "      <td>Newton County</td>\n",
       "      <td>6.1</td>\n",
       "    </tr>\n",
       "    <tr>\n",
       "      <th>1</th>\n",
       "      <td>2015</td>\n",
       "      <td>February</td>\n",
       "      <td>Mississippi</td>\n",
       "      <td>Panola County</td>\n",
       "      <td>9.4</td>\n",
       "    </tr>\n",
       "    <tr>\n",
       "      <th>2</th>\n",
       "      <td>2015</td>\n",
       "      <td>February</td>\n",
       "      <td>Mississippi</td>\n",
       "      <td>Monroe County</td>\n",
       "      <td>7.9</td>\n",
       "    </tr>\n",
       "    <tr>\n",
       "      <th>3</th>\n",
       "      <td>2015</td>\n",
       "      <td>February</td>\n",
       "      <td>Mississippi</td>\n",
       "      <td>Hinds County</td>\n",
       "      <td>6.1</td>\n",
       "    </tr>\n",
       "    <tr>\n",
       "      <th>4</th>\n",
       "      <td>2015</td>\n",
       "      <td>February</td>\n",
       "      <td>Mississippi</td>\n",
       "      <td>Kemper County</td>\n",
       "      <td>10.6</td>\n",
       "    </tr>\n",
       "  </tbody>\n",
       "</table>\n",
       "</div>"
      ],
      "text/plain": [
       "   Year     Month        State         County  Rate\n",
       "0  2015  February  Mississippi  Newton County   6.1\n",
       "1  2015  February  Mississippi  Panola County   9.4\n",
       "2  2015  February  Mississippi  Monroe County   7.9\n",
       "3  2015  February  Mississippi   Hinds County   6.1\n",
       "4  2015  February  Mississippi  Kemper County  10.6"
      ]
     },
     "execution_count": 4,
     "metadata": {},
     "output_type": "execute_result"
    }
   ],
   "source": [
    "#check the head of data\n",
    "unemployment.head()"
   ]
  },
  {
   "cell_type": "code",
   "execution_count": 5,
   "metadata": {},
   "outputs": [
    {
     "data": {
      "text/html": [
       "<div>\n",
       "<style scoped>\n",
       "    .dataframe tbody tr th:only-of-type {\n",
       "        vertical-align: middle;\n",
       "    }\n",
       "\n",
       "    .dataframe tbody tr th {\n",
       "        vertical-align: top;\n",
       "    }\n",
       "\n",
       "    .dataframe thead th {\n",
       "        text-align: right;\n",
       "    }\n",
       "</style>\n",
       "<table border=\"1\" class=\"dataframe\">\n",
       "  <thead>\n",
       "    <tr style=\"text-align: right;\">\n",
       "      <th></th>\n",
       "      <th>Year</th>\n",
       "      <th>Month</th>\n",
       "      <th>State</th>\n",
       "      <th>County</th>\n",
       "      <th>Rate</th>\n",
       "    </tr>\n",
       "  </thead>\n",
       "  <tbody>\n",
       "    <tr>\n",
       "      <th>885543</th>\n",
       "      <td>2009</td>\n",
       "      <td>November</td>\n",
       "      <td>Maine</td>\n",
       "      <td>Somerset County</td>\n",
       "      <td>10.5</td>\n",
       "    </tr>\n",
       "    <tr>\n",
       "      <th>885544</th>\n",
       "      <td>2009</td>\n",
       "      <td>November</td>\n",
       "      <td>Maine</td>\n",
       "      <td>Oxford County</td>\n",
       "      <td>10.5</td>\n",
       "    </tr>\n",
       "    <tr>\n",
       "      <th>885545</th>\n",
       "      <td>2009</td>\n",
       "      <td>November</td>\n",
       "      <td>Maine</td>\n",
       "      <td>Knox County</td>\n",
       "      <td>7.5</td>\n",
       "    </tr>\n",
       "    <tr>\n",
       "      <th>885546</th>\n",
       "      <td>2009</td>\n",
       "      <td>November</td>\n",
       "      <td>Maine</td>\n",
       "      <td>Piscataquis County</td>\n",
       "      <td>11.3</td>\n",
       "    </tr>\n",
       "    <tr>\n",
       "      <th>885547</th>\n",
       "      <td>2009</td>\n",
       "      <td>November</td>\n",
       "      <td>Maine</td>\n",
       "      <td>Aroostook County</td>\n",
       "      <td>9.0</td>\n",
       "    </tr>\n",
       "  </tbody>\n",
       "</table>\n",
       "</div>"
      ],
      "text/plain": [
       "        Year     Month  State              County  Rate\n",
       "885543  2009  November  Maine     Somerset County  10.5\n",
       "885544  2009  November  Maine       Oxford County  10.5\n",
       "885545  2009  November  Maine         Knox County   7.5\n",
       "885546  2009  November  Maine  Piscataquis County  11.3\n",
       "885547  2009  November  Maine    Aroostook County   9.0"
      ]
     },
     "execution_count": 5,
     "metadata": {},
     "output_type": "execute_result"
    }
   ],
   "source": [
    "#check the back of the data\n",
    "unemployment.tail()"
   ]
  },
  {
   "cell_type": "code",
   "execution_count": 6,
   "metadata": {},
   "outputs": [
    {
     "name": "stdout",
     "output_type": "stream",
     "text": [
      "<class 'pandas.core.frame.DataFrame'>\n",
      "RangeIndex: 885548 entries, 0 to 885547\n",
      "Data columns (total 5 columns):\n",
      " #   Column  Non-Null Count   Dtype  \n",
      "---  ------  --------------   -----  \n",
      " 0   Year    885548 non-null  int64  \n",
      " 1   Month   885548 non-null  object \n",
      " 2   State   885548 non-null  object \n",
      " 3   County  885548 non-null  object \n",
      " 4   Rate    885548 non-null  float64\n",
      "dtypes: float64(1), int64(1), object(3)\n",
      "memory usage: 33.8+ MB\n"
     ]
    }
   ],
   "source": [
    "#info about data\n",
    "unemployment.info()"
   ]
  },
  {
   "cell_type": "code",
   "execution_count": 7,
   "metadata": {},
   "outputs": [
    {
     "data": {
      "text/plain": [
       "<Axes: >"
      ]
     },
     "execution_count": 7,
     "metadata": {},
     "output_type": "execute_result"
    },
    {
     "data": {
      "image/png": "[encoded data removed]",
      "text/plain": [
       "<Figure size 640x480 with 1 Axes>"
      ]
     },
     "metadata": {},
     "output_type": "display_data"
    }
   ],
   "source": [
    "#now, we are checking start with a pairplot, and check for missing values\n",
    "sns.heatmap(unemployment.isnull(),cbar=False)\n",
    "\n"
   ]
  },
  {
   "cell_type": "code",
   "execution_count": 8,
   "metadata": {},
   "outputs": [
    {
     "data": {
      "text/plain": [
       "<Figure size 1200x800 with 0 Axes>"
      ]
     },
     "execution_count": 8,
     "metadata": {},
     "output_type": "execute_result"
    },
    {
     "data": {
      "text/plain": [
       "<Figure size 1200x800 with 0 Axes>"
      ]
     },
     "metadata": {},
     "output_type": "display_data"
    }
   ],
   "source": [
    "#Which state has the most data\n",
    "color = sns.color_palette()\n",
    "cnt_srs = unemployment.State.value_counts()\n",
    "\n",
    "plt.figure(figsize=(12,8))\n"
   ]
  },
  {
   "cell_type": "code",
   "execution_count": 14,
   "metadata": {},
   "outputs": [
    {
     "data": {
      "image/png": "[encoded data removed]",
      "text/plain": [
       "<Figure size 640x480 with 1 Axes>"
      ]
     },
     "metadata": {},
     "output_type": "display_data"
    }
   ],
   "source": [
    "\n",
    "plt.ylabel('Number of Occurrences', fontsize=12)\n",
    "plt.xlabel('States', fontsize=12)\n",
    "plt.title('Count the states', fontsize=15)\n",
    "plt.xticks(rotation='vertical')\n",
    "plt.show()"
   ]
  },
  {
   "cell_type": "code",
   "execution_count": 10,
   "metadata": {},
   "outputs": [
    {
     "data": {
      "text/plain": [
       "<Figure size 1200x800 with 0 Axes>"
      ]
     },
     "execution_count": 10,
     "metadata": {},
     "output_type": "execute_result"
    },
    {
     "data": {
      "text/plain": [
       "<Figure size 1200x800 with 0 Axes>"
      ]
     },
     "metadata": {},
     "output_type": "display_data"
    }
   ],
   "source": [
    "# take the mean of rate state by state\n",
    "grouped_df = unemployment.groupby([\"State\"])[\"Rate\"].aggregate(\"mean\").reset_index()\n",
    "\n",
    "plt.figure(figsize=(12,8))\n"
   ]
  },
  {
   "cell_type": "code",
   "execution_count": 15,
   "metadata": {},
   "outputs": [
    {
     "data": {
      "image/png": "[encoded data removed]",
      "text/plain": [
       "<Figure size 640x480 with 1 Axes>"
      ]
     },
     "metadata": {},
     "output_type": "display_data"
    }
   ],
   "source": [
    "\n",
    "plt.ylabel('Mean rate', fontsize=12)\n",
    "plt.xlabel('States', fontsize=12)\n",
    "plt.title(\"Average of mean\", fontsize=15)\n",
    "plt.xticks(rotation='vertical')\n",
    "plt.show()\n"
   ]
  },
  {
   "cell_type": "code",
   "execution_count": 12,
   "metadata": {},
   "outputs": [
    {
     "data": {
      "text/plain": [
       "47"
      ]
     },
     "execution_count": 12,
     "metadata": {},
     "output_type": "execute_result"
    }
   ],
   "source": [
    "\n",
    "#see the number of unique states\n",
    "unemployment.State.nunique()"
   ]
  },
  {
   "cell_type": "code",
   "execution_count": 13,
   "metadata": {},
   "outputs": [
    {
     "name": "stdout",
     "output_type": "stream",
     "text": [
      "                    Rate\n",
      "State                   \n",
      "Arizona         9.274588\n",
      "California      9.045005\n",
      "Mississippi     8.320517\n",
      "Michigan        8.136136\n",
      "West Virginia   8.104809\n",
      "Washington      8.031513\n",
      "South Carolina  7.978737\n",
      "Oregon          7.849271\n",
      "Louisiana       7.812949\n",
      "Alabama         7.723844\n",
      "Tennessee       7.305776\n",
      "Kentucky        7.238306\n",
      "New Mexico      7.083895\n",
      "Ohio            6.923390\n",
      "Arkansas        6.782210\n",
      "Nevada          6.737019\n",
      "North Carolina  6.708099\n",
      "Illinois        6.548596\n",
      "Pennsylvania    6.475843\n",
      "New Jersey      6.422105\n",
      "Idaho           6.319992\n",
      "Rhode Island    6.295802\n",
      "Maine           6.263985\n",
      "Missouri        6.258425\n",
      "New York        6.226225\n",
      "Indiana         5.922725\n",
      "Texas           5.894519\n",
      "Maryland        5.866422\n",
      "Wisconsin       5.815659\n",
      "Hawaii          5.730401\n",
      "Massachusetts   5.673611\n",
      "Connecticut     5.548534\n",
      "Utah            5.503076\n",
      "Virginia        5.450772\n",
      "Minnesota       5.403750\n",
      "Colorado        5.358946\n",
      "Montana         5.305418\n",
      "Oklahoma        5.228062\n",
      "Delaware        5.041049\n",
      "Vermont         4.944356\n",
      "Wyoming         4.576503\n",
      "New Hampshire   4.345710\n",
      "Iowa            4.236744\n",
      "Kansas          4.178851\n",
      "South Dakota    4.097629\n",
      "North Dakota    3.848084\n",
      "Nebraska        3.109903\n"
     ]
    }
   ],
   "source": [
    "#See exact numbers\n",
    "make_total = unemployment.pivot_table(\"Rate\",index=['State'],aggfunc='mean')\n",
    "topstate=make_total.sort_values(by='Rate',ascending=False)[:47]\n",
    "print(topstate)"
   ]
  }
 ],
 "metadata": {
  "kernelspec": {
   "display_name": "Python 3",
   "language": "python",
   "name": "python3"
  },
  "language_info": {
   "codemirror_mode": {
    "name": "ipython",
    "version": 3
   },
   "file_extension": ".py",
   "mimetype": "text/x-python",
   "name": "python",
   "nbconvert_exporter": "python",
   "pygments_lexer": "ipython3",
   "version": "3.11.2"
  },
  "orig_nbformat": 4
 },
 "nbformat": 4,
 "nbformat_minor": 2
}
